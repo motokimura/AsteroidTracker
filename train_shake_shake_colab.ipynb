{
  "nbformat": 4,
  "nbformat_minor": 0,
  "metadata": {
    "colab": {
      "name": "train_shake_shake_colab.ipynb",
      "version": "0.3.2",
      "provenance": [],
      "collapsed_sections": [],
      "include_colab_link": true
    },
    "kernelspec": {
      "name": "python3",
      "display_name": "Python 3"
    },
    "accelerator": "GPU"
  },
  "cells": [
    {
      "cell_type": "markdown",
      "metadata": {
        "id": "view-in-github",
        "colab_type": "text"
      },
      "source": [
        "<a href=\"https://colab.research.google.com/github/motokimura/AsteroidTracker/blob/master/train_shake_shake_colab.ipynb\" target=\"_parent\"><img src=\"https://colab.research.google.com/assets/colab-badge.svg\" alt=\"Open In Colab\"/></a>"
      ]
    },
    {
      "metadata": {
        "id": "qDcwlNW0u7b_",
        "colab_type": "code",
        "colab": {}
      },
      "cell_type": "code",
      "source": [
        "# Clone shake-shake repo\n",
        "! git clone https://github.com/motokimura/shake_shake_chainer.git\n",
        "  \n",
        "# Install cupy & chainer\n",
        "! curl https://colab.chainer.org/install | sh -\n",
        "\n",
        "# Install some additional libraries..\n",
        "! pip install tensorboardX chainercv"
      ],
      "execution_count": 0,
      "outputs": []
    },
    {
      "metadata": {
        "id": "js3AoIHqy_1g",
        "colab_type": "code",
        "colab": {}
      },
      "cell_type": "code",
      "source": [
        "# Run tensorboard before starting model training\n",
        "\n",
        "! mkdir -p /content/shake_shake_chainer/results\n",
        "\n",
        "! npm install -g localtunnel\n",
        "get_ipython().system_raw(\n",
        "    'tensorboard --logdir /content/shake_shake_chainer/results --host 0.0.0.0 --port 6006 &'\n",
        ")\n",
        "get_ipython().system_raw('lt --port 6006 >> url.txt 2>&1 &')\n",
        "\n",
        "\n",
        "# After starting model training, you can check test accuracy from the URL below\n",
        "\n",
        "! cat url.txt"
      ],
      "execution_count": 0,
      "outputs": []
    },
    {
      "metadata": {
        "id": "C3KgA7aYqYR1",
        "colab_type": "code",
        "colab": {}
      },
      "cell_type": "code",
      "source": [
        "# Start training\n",
        "import os\n",
        "os.chdir('/content/shake_shake_chainer')\n",
        "\n",
        "! python train_model.py -o run_1"
      ],
      "execution_count": 0,
      "outputs": []
    },
    {
      "metadata": {
        "id": "olqWu5FxzgXj",
        "colab_type": "code",
        "colab": {}
      },
      "cell_type": "code",
      "source": [
        ""
      ],
      "execution_count": 0,
      "outputs": []
    }
  ]
}